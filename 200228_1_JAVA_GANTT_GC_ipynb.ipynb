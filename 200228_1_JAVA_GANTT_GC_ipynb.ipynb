{
  "nbformat": 4,
  "nbformat_minor": 0,
  "metadata": {
    "colab": {
      "name": "200228_1_JAVA_GANTT_GC.ipynb.ipynb",
      "provenance": [],
      "collapsed_sections": [],
      "authorship_tag": "ABX9TyMEA9YF7RVRkEOKMJsX7QFL",
      "include_colab_link": true
    },
    "kernelspec": {
      "name": "python3",
      "display_name": "Python 3"
    }
  },
  "cells": [
    {
      "cell_type": "markdown",
      "metadata": {
        "id": "view-in-github",
        "colab_type": "text"
      },
      "source": [
        "<a href=\"https://colab.research.google.com/github/ODAGAMMXIX/GANTT/blob/master/200228_1_JAVA_GANTT_GC_ipynb.ipynb\" target=\"_parent\"><img src=\"https://colab.research.google.com/assets/colab-badge.svg\" alt=\"Open In Colab\"/></a>"
      ]
    },
    {
      "cell_type": "code",
      "metadata": {
        "id": "SsFBGQgrWqw-",
        "colab_type": "code",
        "colab": {
          "base_uri": "https://localhost:8080/",
          "height": 68
        },
        "outputId": "6f04daf7-bb6b-4830-ad94-0a5e49509300"
      },
      "source": [
        "import os       #importing os to set environment variable\n",
        "def install_java():\n",
        "  !apt-get install -y openjdk-8-jdk-headless -qq > /dev/null      #install openjdk\n",
        "  os.environ[\"JAVA_HOME\"] = \"/usr/lib/jvm/java-8-openjdk-amd64\"     #set environment variable\n",
        "  !java -version       #check java version\n",
        "install_java()  "
      ],
      "execution_count": 1,
      "outputs": [
        {
          "output_type": "stream",
          "text": [
            "openjdk version \"11.0.6\" 2020-01-14\n",
            "OpenJDK Runtime Environment (build 11.0.6+10-post-Ubuntu-1ubuntu118.04.1)\n",
            "OpenJDK 64-Bit Server VM (build 11.0.6+10-post-Ubuntu-1ubuntu118.04.1, mixed mode, sharing)\n"
          ],
          "name": "stdout"
        }
      ]
    },
    {
      "cell_type": "code",
      "metadata": {
        "id": "t5brZumcX5xX",
        "colab_type": "code",
        "colab": {
          "base_uri": "https://localhost:8080/",
          "height": 131
        },
        "outputId": "7673dd39-b00d-4271-be34-553d3f9aebff"
      },
      "source": [
        "import java.time.LocalDate;  \n",
        "import java.time.ZoneOffset;  \n",
        "import java.util.Date;  \n",
        "import javax.swing.JFrame;  \n",
        "import javax.swing.SwingUtilities;  \n",
        "import javax.swing.WindowConstants;  \n",
        "import org.jfree.chart.ChartFactory;  \n",
        "import org.jfree.chart.ChartPanel;  \n",
        "import org.jfree.chart.JFreeChart;  \n",
        "import org.jfree.data.category.IntervalCategoryDataset;  \n",
        "import org.jfree.data.gantt.Task;  \n",
        "import org.jfree.data.gantt.TaskSeries;  \n",
        "import org.jfree.data.gantt.TaskSeriesCollection;  \n",
        "  \n",
        "public class GanttChartExample extends JFrame {  \n",
        "  \n",
        "   private static final long serialVersionUID = 1L;  \n",
        "  \n",
        "   public GanttChartExample(String title) {  \n",
        "      super(title);  \n",
        "      // Create dataset  \n",
        "      IntervalCategoryDataset dataset = getCategoryDataset();  \n",
        "      \n",
        "      // Create chart  \n",
        "      JFreeChart chart = ChartFactory.createGanttChart(  \n",
        "            \"Gantt Chart Example\", // Chart title  \n",
        "            \"Software Development Phases\", // X-Axis Label  \n",
        "            \"Timeline\", // Y-Axis Label  \n",
        "            dataset);  \n",
        "  \n",
        "      ChartPanel panel = new ChartPanel(chart);  \n",
        "      setContentPane(panel);  \n",
        "   }  \n",
        "  \n",
        "   private IntervalCategoryDataset getCategoryDataset() {  \n",
        "  \n",
        "TaskSeries series1 = new TaskSeries(\"Estimated Date\"); series1.add(new Task(\"Requirement\",  \n",
        "Date.from(LocalDate.of(2017,7,3).atStartOfDay().toInstant(ZoneOffset.UTC)),  \n",
        "Date.from(LocalDate.of(2017, 7,7).atStartOfDay().toInstant(ZoneOffset.UTC))  \n",
        "         ));  \n",
        "        \n",
        " series1.add(new Task(\"Design\",Date.from(LocalDate.of(2017, 7,10).atStartOfDay().toInstant(ZoneOffset.UTC)),  \n",
        " Date.from(LocalDate.of(2017, 7, 14).atStartOfDay().toInstant(ZoneOffset.UTC))  \n",
        "         ));  \n",
        "        \n",
        " series1.add(new Task(\"Coding\",Date.from(LocalDate.of(2017, 7,17).atStartOfDay().toInstant(ZoneOffset.UTC)),  \n",
        " Date.from(LocalDate.of(2017, 7, 21).atStartOfDay().toInstant(ZoneOffset.UTC))  \n",
        "         ));  \n",
        "        \n",
        " series1.add(new Task(\"Testing\", Date.from(LocalDate.of(2017, 7,24).atStartOfDay().toInstant(ZoneOffset.UTC)),  \n",
        " Date.from(LocalDate.of(2017, 7, 28).atStartOfDay().toInstant(ZoneOffset.UTC))  \n",
        "         ));  \n",
        "        \n",
        " series1.add(new Task(\"Deployment\", Date.from(LocalDate.of(2017, 07,31).atStartOfDay().toInstant(ZoneOffset.UTC)),  \n",
        " Date.from(LocalDate.of(2017, 8, 4).atStartOfDay().toInstant(ZoneOffset.UTC))  \n",
        "         ));  \n",
        "        \n",
        "        \n",
        "TaskSeries series2 = new TaskSeries(\"Actual Date\");  \n",
        "series2.add(new Task(\"Requirement\",Date.from(LocalDate.of(2017, 7,3).atStartOfDay().toInstant(ZoneOffset.UTC)),  \n",
        "Date.from(LocalDate.of(2017, 7, 05).atStartOfDay().toInstant(ZoneOffset.UTC))  \n",
        "         ));  \n",
        "        \n",
        " series2.add(new Task(\"Design\",  \n",
        " Date.from(LocalDate.of(2017, 7, 6).atStartOfDay().toInstant(ZoneOffset.UTC)),  \n",
        " Date.from(LocalDate.of(2017, 7, 17).atStartOfDay().toInstant(ZoneOffset.UTC))  \n",
        "         ));  \n",
        "        \n",
        " series2.add(new Task(\"Coding\",  \n",
        " Date.from(LocalDate.of(2017, 7, 18).atStartOfDay().toInstant(ZoneOffset.UTC)),  \n",
        " Date.from(LocalDate.of(2017, 7, 27).atStartOfDay().toInstant(ZoneOffset.UTC))  \n",
        "         ));  \n",
        "        \n",
        " series2.add(new Task(\"Testing\",  \n",
        " Date.from(LocalDate.of(2017, 7, 28).atStartOfDay().toInstant(ZoneOffset.UTC)),  \n",
        " Date.from(LocalDate.of(2017, 8, 1).atStartOfDay().toInstant(ZoneOffset.UTC))  \n",
        "         ));  \n",
        "        \n",
        " series2.add(new Task(\"Deployment\",  \n",
        " Date.from(LocalDate.of(2017, 8, 2).atStartOfDay().toInstant(ZoneOffset.UTC)),  \n",
        " Date.from(LocalDate.of(2017, 8, 4).atStartOfDay().toInstant(ZoneOffset.UTC))  \n",
        "         ));  \n",
        "  \n",
        " TaskSeriesCollection dataset = new TaskSeriesCollection();  \n",
        " dataset.add(series1);dataset.add(series2);  \n",
        " return dataset;  \n",
        "   }  \n",
        "  \n",
        " public static void main(String[] args) {  \n",
        " SwingUtilities.invokeLater(() -> {  \n",
        " GanttChartExample example = new GanttChartExample(\"Gantt Chart Example\");  \n",
        "         example.setSize(800, 400);  \n",
        "         example.setLocationRelativeTo(null);  \n",
        "         example.setDefaultCloseOperation(WindowConstants.EXIT_ON_CLOSE);  \n",
        "         example.setVisible(true);  \n",
        "      });  \n",
        "   }  \n",
        "}  \n"
      ],
      "execution_count": 2,
      "outputs": [
        {
          "output_type": "error",
          "ename": "SyntaxError",
          "evalue": "ignored",
          "traceback": [
            "\u001b[0;36m  File \u001b[0;32m\"<ipython-input-2-744bdf27126e>\"\u001b[0;36m, line \u001b[0;32m15\u001b[0m\n\u001b[0;31m    public class GanttChartExample extends JFrame {\u001b[0m\n\u001b[0m               ^\u001b[0m\n\u001b[0;31mSyntaxError\u001b[0m\u001b[0;31m:\u001b[0m invalid syntax\n"
          ]
        }
      ]
    },
    {
      "cell_type": "markdown",
      "metadata": {
        "id": "sHDv4gNbYUeJ",
        "colab_type": "text"
      },
      "source": [
        ""
      ]
    }
  ]
}